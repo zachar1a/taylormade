{
 "cells": [
  {
   "cell_type": "code",
   "execution_count": 7,
   "id": "2bd41f43",
   "metadata": {},
   "outputs": [],
   "source": [
    "import pandas as pd\n",
    "import numpy as np\n",
    "from sklearn.linear_model import LinearRegression\n",
    "from sklearn.model_selection import train_test_split as tts\n",
    "\n",
    "class shoeFile:\n",
    "    def __init__(self, sn):\n",
    "        self.shoeName = sn\n",
    "        self.shoeDF = pd.read_csv('../Historical Data/'+self.shoeName+'.csv')\n",
    "        self.shoeDF['msrp'] = 130\n",
    "        self.salesInPastMonth = 0\n",
    "\n",
    "        self.shoeDF['Price'] = self.shoeDF['Price'].apply(lambda x: x.replace('$','') if '$' in list(x) else x)\n",
    "        self.shoeDF['Price'] = self.shoeDF['Price'].apply(pd.to_numeric)\n",
    "\n",
    "        uniqueDays = self.shoeDF['Date'].unique()[:31]\n",
    "        for ud in uniqueDays:\n",
    "            self.salesInPastMonth += len(self.shoeDF[self.shoeDF['Date'] == ud])\n",
    "        self.pastMonthDF = self.shoeDF[:self.salesInPastMonth]\n",
    "\n",
    "\n"
   ]
  },
  {
   "cell_type": "code",
   "execution_count": 8,
   "id": "a9bc9f60",
   "metadata": {},
   "outputs": [],
   "source": [
    "x = shoeFile('Jordan 1 Centre Court White University Red') "
   ]
  },
  {
   "cell_type": "code",
   "execution_count": 9,
   "id": "6ee6f110",
   "metadata": {},
   "outputs": [
    {
     "name": "stdout",
     "output_type": "stream",
     "text": [
      "<class 'pandas.core.frame.DataFrame'>\n",
      "RangeIndex: 271 entries, 0 to 270\n",
      "Data columns (total 5 columns):\n",
      " #   Column  Non-Null Count  Dtype  \n",
      "---  ------  --------------  -----  \n",
      " 0   Date    271 non-null    object \n",
      " 1   Time    271 non-null    object \n",
      " 2   Size    271 non-null    float64\n",
      " 3   Price   271 non-null    int64  \n",
      " 4   msrp    271 non-null    int64  \n",
      "dtypes: float64(1), int64(2), object(2)\n",
      "memory usage: 10.7+ KB\n"
     ]
    }
   ],
   "source": [
    "x.pastMonthDF.info()"
   ]
  },
  {
   "cell_type": "code",
   "execution_count": 10,
   "id": "76abfeb5",
   "metadata": {},
   "outputs": [
    {
     "data": {
      "text/plain": [
       "104.39114391143912"
      ]
     },
     "execution_count": 10,
     "metadata": {},
     "output_type": "execute_result"
    }
   ],
   "source": [
    "x.pastMonthDF['Price'].mean()"
   ]
  },
  {
   "cell_type": "code",
   "execution_count": 11,
   "id": "d7ef7f93",
   "metadata": {},
   "outputs": [
    {
     "data": {
      "text/plain": [
       "101.07889908256881"
      ]
     },
     "execution_count": 11,
     "metadata": {},
     "output_type": "execute_result"
    }
   ],
   "source": [
    "x.shoeDF['Price'].mean()"
   ]
  },
  {
   "cell_type": "code",
   "execution_count": 12,
   "id": "5d0dc679",
   "metadata": {},
   "outputs": [
    {
     "data": {
      "text/html": [
       "<div>\n",
       "<style scoped>\n",
       "    .dataframe tbody tr th:only-of-type {\n",
       "        vertical-align: middle;\n",
       "    }\n",
       "\n",
       "    .dataframe tbody tr th {\n",
       "        vertical-align: top;\n",
       "    }\n",
       "\n",
       "    .dataframe thead th {\n",
       "        text-align: right;\n",
       "    }\n",
       "</style>\n",
       "<table border=\"1\" class=\"dataframe\">\n",
       "  <thead>\n",
       "    <tr style=\"text-align: right;\">\n",
       "      <th></th>\n",
       "      <th>Date</th>\n",
       "      <th>Time</th>\n",
       "      <th>Size</th>\n",
       "      <th>Price</th>\n",
       "      <th>msrp</th>\n",
       "    </tr>\n",
       "  </thead>\n",
       "  <tbody>\n",
       "    <tr>\n",
       "      <th>0</th>\n",
       "      <td>Sunday, July 4, 2021</td>\n",
       "      <td>11:50 PM EST</td>\n",
       "      <td>10.0</td>\n",
       "      <td>60</td>\n",
       "      <td>130</td>\n",
       "    </tr>\n",
       "    <tr>\n",
       "      <th>1</th>\n",
       "      <td>Sunday, July 4, 2021</td>\n",
       "      <td>8:48 PM EST</td>\n",
       "      <td>12.0</td>\n",
       "      <td>84</td>\n",
       "      <td>130</td>\n",
       "    </tr>\n",
       "    <tr>\n",
       "      <th>2</th>\n",
       "      <td>Thursday, July 1, 2021</td>\n",
       "      <td>8:57 PM EST</td>\n",
       "      <td>12.0</td>\n",
       "      <td>88</td>\n",
       "      <td>130</td>\n",
       "    </tr>\n",
       "    <tr>\n",
       "      <th>3</th>\n",
       "      <td>Thursday, July 1, 2021</td>\n",
       "      <td>7:58 PM EST</td>\n",
       "      <td>10.5</td>\n",
       "      <td>80</td>\n",
       "      <td>130</td>\n",
       "    </tr>\n",
       "    <tr>\n",
       "      <th>4</th>\n",
       "      <td>Thursday, July 1, 2021</td>\n",
       "      <td>7:55 PM EST</td>\n",
       "      <td>10.0</td>\n",
       "      <td>69</td>\n",
       "      <td>130</td>\n",
       "    </tr>\n",
       "  </tbody>\n",
       "</table>\n",
       "</div>"
      ],
      "text/plain": [
       "                     Date          Time  Size  Price  msrp\n",
       "0    Sunday, July 4, 2021  11:50 PM EST  10.0     60   130\n",
       "1    Sunday, July 4, 2021   8:48 PM EST  12.0     84   130\n",
       "2  Thursday, July 1, 2021   8:57 PM EST  12.0     88   130\n",
       "3  Thursday, July 1, 2021   7:58 PM EST  10.5     80   130\n",
       "4  Thursday, July 1, 2021   7:55 PM EST  10.0     69   130"
      ]
     },
     "execution_count": 12,
     "metadata": {},
     "output_type": "execute_result"
    }
   ],
   "source": [
    "x.pastMonthDF.head()"
   ]
  },
  {
   "cell_type": "code",
   "execution_count": 15,
   "id": "0dfbb387",
   "metadata": {},
   "outputs": [
    {
     "name": "stdout",
     "output_type": "stream",
     "text": [
      "0.8030087993187625\n"
     ]
    }
   ],
   "source": [
    "print(x.pastMonthDF['Price'].mean()/x.pastMonthDF['msrp'].mean())"
   ]
  },
  {
   "cell_type": "code",
   "execution_count": null,
   "id": "f0955fff",
   "metadata": {},
   "outputs": [],
   "source": []
  }
 ],
 "metadata": {
  "kernelspec": {
   "display_name": "Python 3",
   "language": "python",
   "name": "python3"
  },
  "language_info": {
   "codemirror_mode": {
    "name": "ipython",
    "version": 3
   },
   "file_extension": ".py",
   "mimetype": "text/x-python",
   "name": "python",
   "nbconvert_exporter": "python",
   "pygments_lexer": "ipython3",
   "version": "3.9.1"
  }
 },
 "nbformat": 4,
 "nbformat_minor": 5
}
